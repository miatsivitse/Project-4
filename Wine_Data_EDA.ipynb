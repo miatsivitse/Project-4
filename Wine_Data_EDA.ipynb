{
 "cells": [
  {
   "cell_type": "code",
   "execution_count": null,
   "id": "339f3f12",
   "metadata": {},
   "outputs": [],
   "source": [
    "#dependencies\n",
    "import pandas as pd\n",
    "import scipy.stats as stats\n",
    "import numpy as np"
   ]
  },
  {
   "cell_type": "code",
   "execution_count": null,
   "id": "1ff2ae9f",
   "metadata": {},
   "outputs": [],
   "source": [
    "#read in data\n",
    "wine_df = pd.read_csv('')"
   ]
  },
  {
   "cell_type": "code",
   "execution_count": null,
   "id": "0cfdd2db",
   "metadata": {},
   "outputs": [],
   "source": [
    "#count of wines\n",
    "wine_df = wine_df['title'].count()"
   ]
  },
  {
   "cell_type": "code",
   "execution_count": null,
   "id": "225c6f94",
   "metadata": {},
   "outputs": [],
   "source": [
    "#average rating amongst all wines\n",
    "average_rating_all = wine_df.mean()"
   ]
  },
  {
   "cell_type": "code",
   "execution_count": null,
   "id": "0428fa3d",
   "metadata": {},
   "outputs": [],
   "source": [
    "#average wine rating for each winery\n",
    "winery_rating_mean = wine_df.groupby('winery_name').mean()['points']"
   ]
  },
  {
   "cell_type": "code",
   "execution_count": null,
   "id": "3d387c4c",
   "metadata": {},
   "outputs": [],
   "source": [
    "#average wine price by winery\n",
    "wine_price_mean = wine_df.groupby('winery_name').mean()['price']"
   ]
  },
  {
   "cell_type": "code",
   "execution_count": null,
   "id": "646540f2",
   "metadata": {},
   "outputs": [],
   "source": [
    "#average wine rating by country of origin\n",
    "wine_country_mean = wine_df.groupby('country').mean()['points']"
   ]
  },
  {
   "cell_type": "code",
   "execution_count": null,
   "id": "e33a5bc9",
   "metadata": {},
   "outputs": [],
   "source": [
    "#average wine price by country of origin\n",
    "wine_price_mean = wine_df.groupby('country').mean()['price']"
   ]
  },
  {
   "cell_type": "code",
   "execution_count": null,
   "id": "2551c9fe",
   "metadata": {},
   "outputs": [],
   "source": [
    "#country of origin with the greatest wine production\n",
    "wine_country_total_production = wine_df.groupby('country').count()['title']"
   ]
  },
  {
   "cell_type": "code",
   "execution_count": null,
   "id": "96913a73",
   "metadata": {},
   "outputs": [],
   "source": [
    "#vineyards with the greatest wine production\n",
    "winery_total_production = wine_df.groupby('winery_name').count()['title']"
   ]
  },
  {
   "cell_type": "code",
   "execution_count": null,
   "id": "e72b663a",
   "metadata": {},
   "outputs": [],
   "source": [
    "#wine prices by winery (min)\n",
    "wine_prices_vineyard = wine_df.groupby('winery_name').min()['price']"
   ]
  },
  {
   "cell_type": "code",
   "execution_count": null,
   "id": "f3a9c927",
   "metadata": {},
   "outputs": [],
   "source": [
    "#wine prices by winery (max)\n",
    "wine_prices_vineyard = wine_df.groupby('winery_name').max()['price']"
   ]
  },
  {
   "cell_type": "code",
   "execution_count": null,
   "id": "d6563513",
   "metadata": {},
   "outputs": [],
   "source": [
    "#wine prices by country (min)\n",
    "wine_prices_country = wine_df.groupby('country').min()['price']"
   ]
  },
  {
   "cell_type": "code",
   "execution_count": null,
   "id": "ceb89d9b",
   "metadata": {},
   "outputs": [],
   "source": [
    "#wine prices by country (max)\n",
    "wine_prices_country = wine_df.groupby('country').max()['price']"
   ]
  }
 ],
 "metadata": {
  "kernelspec": {
   "display_name": "PythonData",
   "language": "python",
   "name": "pythondata"
  },
  "language_info": {
   "codemirror_mode": {
    "name": "ipython",
    "version": 3
   },
   "file_extension": ".py",
   "mimetype": "text/x-python",
   "name": "python",
   "nbconvert_exporter": "python",
   "pygments_lexer": "ipython3",
   "version": "3.7.7"
  }
 },
 "nbformat": 4,
 "nbformat_minor": 5
}
