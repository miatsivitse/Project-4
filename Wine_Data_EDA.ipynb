{
 "cells": [
  {
   "cell_type": "code",
   "execution_count": null,
   "id": "817ab9f3",
   "metadata": {},
   "outputs": [],
   "source": [
    "#dependencies\n",
    "import pandas as pd\n",
    "import scipy.stats as stats\n",
    "import numpy as np"
   ]
  },
  {
   "cell_type": "code",
   "execution_count": null,
   "id": "a827b330",
   "metadata": {},
   "outputs": [],
   "source": [
    "#read in data\n",
    "wine_df = pd.read_csv('')"
   ]
  },
  {
   "cell_type": "code",
   "execution_count": null,
   "id": "1000b71c",
   "metadata": {},
   "outputs": [],
   "source": [
    "#count of wines\n",
    "wine_df = wine_df['title'].count()"
   ]
  },
  {
   "cell_type": "code",
   "execution_count": null,
   "id": "08552ec9",
   "metadata": {},
   "outputs": [],
   "source": [
    "#average rating amongst all wines\n",
    "average_rating_all = wine_df.mean()"
   ]
  },
  {
   "cell_type": "code",
   "execution_count": null,
   "id": "829e4ce6",
   "metadata": {},
   "outputs": [],
   "source": [
    "#average wine rating for each winery\n",
    "winery_rating_mean = wine_df.groupby('winery_name').mean()['points']"
   ]
  },
  {
   "cell_type": "code",
   "execution_count": null,
   "id": "e6b9a334",
   "metadata": {},
   "outputs": [],
   "source": [
    "#average wine price by winery\n",
    "wine_price_mean = wine_df.groupby('winery_name').mean()['price']"
   ]
  },
  {
   "cell_type": "code",
   "execution_count": null,
   "id": "99c9259d",
   "metadata": {},
   "outputs": [],
   "source": [
    "#average wine rating by country of origin\n",
    "wine_country_mean = wine_df.groupby('country').mean()['points']"
   ]
  },
  {
   "cell_type": "code",
   "execution_count": null,
   "id": "96f97c25",
   "metadata": {},
   "outputs": [],
   "source": [
    "#average wine price by country of origin\n",
    "wine_price_mean = wine_df.groupby('country').mean()['price']"
   ]
  },
  {
   "cell_type": "code",
   "execution_count": null,
   "id": "14773e91",
   "metadata": {},
   "outputs": [],
   "source": [
    "#country of origin with the greatest wine production\n",
    "wine_country_total_production = wine_df.groupby('country').count()['title']"
   ]
  },
  {
   "cell_type": "code",
   "execution_count": null,
   "id": "40099f62",
   "metadata": {},
   "outputs": [],
   "source": [
    "#vineyards with the greatest wine production\n",
    "winery_total_production = wine_df.groupby('winery_name').count()['title']"
   ]
  },
  {
   "cell_type": "code",
   "execution_count": null,
   "id": "65b50522",
   "metadata": {},
   "outputs": [],
   "source": [
    "#wine prices by vineyard (min)\n",
    "wine_prices_vineyard = wine_df.groupby('winery_name').min()['price']"
   ]
  },
  {
   "cell_type": "code",
   "execution_count": null,
   "id": "f059d231",
   "metadata": {},
   "outputs": [],
   "source": [
    "#wine prices by vineyard (max)\n",
    "wine_prices_vineyard = wine_df.groupby('winery_name').max()['price']"
   ]
  },
  {
   "cell_type": "code",
   "execution_count": null,
   "id": "31baea86",
   "metadata": {},
   "outputs": [],
   "source": [
    "#wine prices by country (min)\n",
    "wine_prices_country = wine_df.groupby('country').min()['price']"
   ]
  },
  {
   "cell_type": "code",
   "execution_count": null,
   "id": "aa3808e0",
   "metadata": {},
   "outputs": [],
   "source": []
  }
 ],
 "metadata": {
  "kernelspec": {
   "display_name": "PythonData",
   "language": "python",
   "name": "pythondata"
  },
  "language_info": {
   "codemirror_mode": {
    "name": "ipython",
    "version": 3
   },
   "file_extension": ".py",
   "mimetype": "text/x-python",
   "name": "python",
   "nbconvert_exporter": "python",
   "pygments_lexer": "ipython3",
   "version": "3.7.7"
  }
 },
 "nbformat": 4,
 "nbformat_minor": 5
}
