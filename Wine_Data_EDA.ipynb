{
 "cells": [
  {
   "cell_type": "code",
   "execution_count": null,
   "id": "33877a27",
   "metadata": {},
   "outputs": [],
   "source": [
    "#dependencies\n",
    "import pandas as pd\n",
    "import scipy.stats as stats\n",
    "import numpy as np"
   ]
  },
  {
   "cell_type": "code",
   "execution_count": null,
   "id": "02a4a9e1",
   "metadata": {},
   "outputs": [],
   "source": [
    "#read in data\n",
    "wine_df = pd.read_csv('')"
   ]
  },
  {
   "cell_type": "code",
   "execution_count": null,
   "id": "4d985bf2",
   "metadata": {},
   "outputs": [],
   "source": [
    "#count of wines\n",
    "wine_df = wine_df['title'].count()"
   ]
  },
  {
   "cell_type": "code",
   "execution_count": null,
   "id": "7e742640",
   "metadata": {},
   "outputs": [],
   "source": [
    "#average rating amongst all wines\n",
    "average_rating_all = wine_df.mean()"
   ]
  },
  {
   "cell_type": "code",
   "execution_count": null,
   "id": "0cf6951f",
   "metadata": {},
   "outputs": [],
   "source": [
    "#average wine rating for each winery\n",
    "winery_rating_mean = wine_df.groupby('winery_name').mean()['points']"
   ]
  },
  {
   "cell_type": "code",
   "execution_count": null,
   "id": "c0f6e173",
   "metadata": {},
   "outputs": [],
   "source": [
    "#average wine price by winery\n",
    "wine_price_mean = wine_df.groupby('winery_name').mean()['price']"
   ]
  },
  {
   "cell_type": "code",
   "execution_count": null,
   "id": "63d90ecb",
   "metadata": {},
   "outputs": [],
   "source": [
    "#average wine rating by country of origin\n",
    "wine_country_mean = wine_df.groupby('country').mean()['points']"
   ]
  },
  {
   "cell_type": "code",
   "execution_count": null,
   "id": "7c441083",
   "metadata": {},
   "outputs": [],
   "source": [
    "#average wine price by country of origin\n",
    "wine_price_mean = wine_df.groupby('country').mean()['price']"
   ]
  },
  {
   "cell_type": "code",
   "execution_count": null,
   "id": "976944d9",
   "metadata": {},
   "outputs": [],
   "source": [
    "#country of origin ratings - highest\n"
   ]
  },
  {
   "cell_type": "code",
   "execution_count": null,
   "id": "6cbe51d0",
   "metadata": {},
   "outputs": [],
   "source": [
    "#country of origin ratings - lowest"
   ]
  },
  {
   "cell_type": "code",
   "execution_count": null,
   "id": "002d4769",
   "metadata": {},
   "outputs": [],
   "source": [
    "#country of origin that produces the most wine"
   ]
  },
  {
   "cell_type": "code",
   "execution_count": null,
   "id": "9dc66ea3",
   "metadata": {},
   "outputs": [],
   "source": [
    "#lowest price wine"
   ]
  },
  {
   "cell_type": "code",
   "execution_count": null,
   "id": "cf5d1432",
   "metadata": {},
   "outputs": [],
   "source": [
    "#highest price wine"
   ]
  },
  {
   "cell_type": "code",
   "execution_count": null,
   "id": "0d9f8a53",
   "metadata": {},
   "outputs": [],
   "source": [
    "#vineyards with greatest wine production"
   ]
  }
 ],
 "metadata": {
  "kernelspec": {
   "display_name": "PythonData",
   "language": "python",
   "name": "pythondata"
  },
  "language_info": {
   "codemirror_mode": {
    "name": "ipython",
    "version": 3
   },
   "file_extension": ".py",
   "mimetype": "text/x-python",
   "name": "python",
   "nbconvert_exporter": "python",
   "pygments_lexer": "ipython3",
   "version": "3.7.7"
  }
 },
 "nbformat": 4,
 "nbformat_minor": 5
}
